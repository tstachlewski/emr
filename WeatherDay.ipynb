{
 "cells": [
  {
   "cell_type": "markdown",
   "id": "narrative-portable",
   "metadata": {},
   "source": [
    "## EMR Studio - Dependencies\n",
    "Many of these are already installed (like matplotlib and numpy), but keeping them here for documentation purposes.\n",
    "\n",
    "For matplotlib, it was installed using an EMR Step that installed `basemap` along with corresponding OS dependencies (like `geos`)."
   ]
  },
  {
   "cell_type": "code",
   "execution_count": null,
   "id": "built-surveillance",
   "metadata": {
    "tags": []
   },
   "outputs": [],
   "source": [
    "pip install matplotlib boto3 xarray==0.17.0 netCDF4 zarr==2.5.0 fsspec s3fs numpy basemap"
   ]
  },
  {
   "cell_type": "markdown",
   "id": "future-breeding",
   "metadata": {},
   "source": [
    "## Example data\n",
    "Let's take a quick look at what our weather data looks like - first, we'll peek at precipitation zarr."
   ]
  },
  {
   "cell_type": "code",
   "execution_count": null,
   "id": "auburn-mount",
   "metadata": {
    "tags": []
   },
   "outputs": [],
   "source": [
    "import xarray as xr\n",
    "import numpy as np\n",
    "\n",
    "# xarray 0.17.0 requires consolidated=True for this particular dataset\n",
    "xr.open_zarr(\n",
    "    \"s3://era5-pds/zarr/2020/12/data/precipitation_amount_1hour_Accumulation.zarr/\",\n",
    "    consolidated=True,\n",
    ")"
   ]
  },
  {
   "cell_type": "markdown",
   "id": "french-surgeon",
   "metadata": {},
   "source": [
    "## Build a map of weather data for a given day\n",
    "\n",
    "This demo showcases the EMR Studio notebook environment. We'll use a combination of input parameters, [ERA5 Zarr data](https://registry.opendata.aws/ecmwf-era5/) available on the [Registry of Open Data on AWS](https://registry.opendata.aws), and `matplotlib` to build a map of what the weather was in the US for any given day since 1979.\n",
    "\n",
    "Below we'll define our input parameters (ISO date - 2021-01-13) and a handy function for converting that date string to a more human-readable one.\n",
    "\n",
    "And then we define a couple functions for fetching our zarr data.\n",
    "- `open_zarrs` specifies the 3 datasets we want to retrieve\n",
    "- `get_zarr_for_date` returns the actual zarr data from S3 for a specific Y-m-d"
   ]
  },
  {
   "cell_type": "code",
   "execution_count": null,
   "id": "opened-arizona",
   "metadata": {
    "tags": [
     "parameter"
    ]
   },
   "outputs": [],
   "source": [
    "# This cell has a `parameter` tag so we can override it in workflows\n",
    "# ref: https://papermill.readthedocs.io/en/latest/usage-parameterize.html#id1\n",
    "weather_date = '2020-01-13'"
   ]
  },
  {
   "cell_type": "code",
   "execution_count": null,
   "id": "advanced-pontiac",
   "metadata": {},
   "outputs": [],
   "source": [
    "from datetime import datetime\n",
    "\n",
    "def date_string_to_human(ymd):\n",
    "    d = datetime.strptime(ymd, '%Y-%m-%d')\n",
    "    return d.strftime(\"%B %d, %Y\")"
   ]
  },
  {
   "cell_type": "code",
   "execution_count": null,
   "id": "steady-pierre",
   "metadata": {},
   "outputs": [],
   "source": [
    "import xarray as xr\n",
    "import numpy as np\n",
    "\n",
    "\n",
    "def get_zarr_for_date(measure, ymd):\n",
    "    year = ymd.split('-')[0]\n",
    "    month = ymd.split('-')[1]\n",
    "    time_slice = slice(\n",
    "        np.datetime64(ymd),\n",
    "        np.datetime64(f\"{ymd} 23:59\")\n",
    "    )\n",
    "    zarr_prefix = f\"era5-pds/zarr/{year}/{month}/data/{measure}.zarr\"\n",
    "    remote_data = xr.open_zarr(\n",
    "        f\"s3://{zarr_prefix}/\",\n",
    "        consolidated=True,\n",
    "    )\n",
    "    # precipitation zarr has a different time dimension name (time1 vs. time0 for the others)\n",
    "    time_key = list(remote_data.filter_by_attrs(standard_name=\"time\").to_dict()['dims'].keys())[0]\n",
    "    return remote_data.sel({time_key: time_slice})\n",
    "\n",
    "def open_zarrs(ymd):\n",
    "    zarr_measures = ['air_pressure_at_mean_sea_level', 'air_temperature_at_2_metres', 'precipitation_amount_1hour_Accumulation']\n",
    "    return [get_zarr_for_date(m, ymd) for m in zarr_measures]"
   ]
  },
  {
   "cell_type": "code",
   "execution_count": null,
   "id": "frozen-armstrong",
   "metadata": {},
   "outputs": [],
   "source": [
    "pressure, temp, precip = open_zarrs(weather_date)"
   ]
  },
  {
   "cell_type": "code",
   "execution_count": null,
   "id": "unavailable-biodiversity",
   "metadata": {},
   "outputs": [],
   "source": [
    "precip_data = precip.precipitation_amount_1hour_Accumulation[12,:,:].values\n",
    "\n",
    "pressure_data = pressure.air_pressure_at_mean_sea_level[12,:,:].values\n",
    "pressure_data = pressure_data * 0.01 # Pa to hPa\n",
    "\n",
    "temp_data = temp.air_temperature_at_2_metres[12,:,:].values\n",
    "temp_data =  (temp_data - 273.15) * 9/5 + 32.0 # K to F\n",
    "\n",
    "lons, lats = np.meshgrid(temp.lon.values, temp.lat.values)"
   ]
  },
  {
   "cell_type": "markdown",
   "id": "furnished-spank",
   "metadata": {},
   "source": [
    "Unfortunately, due to the way basemap (which is now deprecated, but many folks still use it) is installed, we need to inject an environment variable before importing."
   ]
  },
  {
   "cell_type": "code",
   "execution_count": null,
   "id": "married-neighbor",
   "metadata": {},
   "outputs": [],
   "source": [
    "#Hack to fix missing PROJ4 env var\n",
    "import os\n",
    "import conda\n",
    "\n",
    "conda_file_dir = conda.__file__\n",
    "conda_dir = conda_file_dir.split('lib')[0]\n",
    "proj_lib = os.path.join(os.path.join(conda_dir, 'share'), 'proj')\n",
    "os.environ[\"PROJ_LIB\"] = proj_lib"
   ]
  },
  {
   "cell_type": "code",
   "execution_count": null,
   "id": "cheap-egyptian",
   "metadata": {
    "tags": []
   },
   "outputs": [],
   "source": [
    "%matplotlib inline\n",
    "import matplotlib.pyplot as plt\n",
    "from mpl_toolkits.basemap import Basemap\n",
    "\n",
    "fig = plt.figure(figsize=(12, 8))\n",
    "ax = fig.add_axes([0.1, 0.1, 0.8, 0.8])\n",
    "m = Basemap(llcrnrlon = 230., llcrnrlat = 20., urcrnrlon = 300., urcrnrlat = 55., resolution = 'l', projection = 'merc', ax = ax)\n",
    "\n",
    "x, y = m(lons, lats)\n",
    "\n",
    "# Plot Temperature data\n",
    "clevs = np.arange(-30, 100, 5.)\n",
    "t_c = m.contourf(x, y, temp_data, clevs)\n",
    "\n",
    "# Plot MSLP contours every 3 hPa\n",
    "clevs = np.arange(900, 1100., 3.)\n",
    "mslp_c = m.contour(x, y, pressure_data, clevs, colors='k', linewidths=1.)\n",
    "plt.clabel(mslp_c, mslp_c.levels, inline=True, fmt='%r hPa', fontsize=10)\n",
    "\n",
    "# Give ourselves some context\n",
    "m.drawcoastlines()\n",
    "m.drawstates()\n",
    "m.drawcountries()\n",
    "\n",
    "cbax = fig.add_axes([0.2, 0.05, 0.6, 0.03])\n",
    "cbar=plt.colorbar(mappable=t_c, cax=cbax, orientation='horizontal')\n",
    "cbar.set_label('Temperature (°F)', fontsize=14)\n",
    "plt.suptitle(f'Weather for {date_string_to_human(weather_date)}', fontsize=20)\n",
    "plt.show()"
   ]
  }
 ],
 "metadata": {
  "kernelspec": {
   "display_name": "Python 3",
   "language": "python",
   "name": "python3"
  },
  "language_info": {
   "codemirror_mode": {
    "name": "ipython",
    "version": 3
   },
   "file_extension": ".py",
   "mimetype": "text/x-python",
   "name": "python",
   "nbconvert_exporter": "python",
   "pygments_lexer": "ipython3",
   "version": "3.9.18"
  }
 },
 "nbformat": 4,
 "nbformat_minor": 5
}
